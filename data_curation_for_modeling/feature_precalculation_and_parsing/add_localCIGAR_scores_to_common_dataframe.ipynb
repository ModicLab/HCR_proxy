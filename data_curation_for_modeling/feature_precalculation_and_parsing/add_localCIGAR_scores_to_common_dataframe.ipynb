{
 "cells": [
  {
   "cell_type": "code",
   "execution_count": 1,
   "metadata": {},
   "outputs": [],
   "source": [
    "import pandas as pd\n",
    "from functools import partial\n",
    "from localcider.sequenceParameters import SequenceParameters\n",
    "from pathlib import Path\n",
    "from sklearn.preprocessing import MultiLabelBinarizer\n",
    "from collections import defaultdict, Counter"
   ]
  },
  {
   "cell_type": "markdown",
   "metadata": {},
   "source": [
    "**Import UniProt proteome**"
   ]
  },
  {
   "cell_type": "code",
   "execution_count": 2,
   "metadata": {},
   "outputs": [
    {
     "name": "stderr",
     "output_type": "stream",
     "text": [
      "<ipython-input-2-781c672d024e>:1: DtypeWarning: Columns (10,11) have mixed types. Specify dtype option on import or set low_memory=False.\n",
      "  uniprot_data_all = pd.read_csv('/ceph/hpc/home/novljanj/data_storage/projects/nucleolus_enriched_proteins/data/uniprot_data/uniprotkb_taxonomy_id_10090_2025_03_25.tsv', sep='\\t')\n"
     ]
    },
    {
     "data": {
      "text/html": [
       "<div>\n",
       "<style scoped>\n",
       "    .dataframe tbody tr th:only-of-type {\n",
       "        vertical-align: middle;\n",
       "    }\n",
       "\n",
       "    .dataframe tbody tr th {\n",
       "        vertical-align: top;\n",
       "    }\n",
       "\n",
       "    .dataframe thead th {\n",
       "        text-align: right;\n",
       "    }\n",
       "</style>\n",
       "<table border=\"1\" class=\"dataframe\">\n",
       "  <thead>\n",
       "    <tr style=\"text-align: right;\">\n",
       "      <th></th>\n",
       "      <th>Entry</th>\n",
       "      <th>Reviewed</th>\n",
       "      <th>Entry Name</th>\n",
       "      <th>Protein names</th>\n",
       "      <th>Gene Names</th>\n",
       "      <th>Organism</th>\n",
       "      <th>Length</th>\n",
       "      <th>Compositional bias</th>\n",
       "      <th>Mass</th>\n",
       "      <th>Sequence</th>\n",
       "      <th>...</th>\n",
       "      <th>Redox potential</th>\n",
       "      <th>Region</th>\n",
       "      <th>Ensembl</th>\n",
       "      <th>Coiled coil</th>\n",
       "      <th>Domain [CC]</th>\n",
       "      <th>Domain [FT]</th>\n",
       "      <th>Motif</th>\n",
       "      <th>Repeat</th>\n",
       "      <th>Zinc finger</th>\n",
       "      <th>Gene Ontology (cellular component)</th>\n",
       "    </tr>\n",
       "  </thead>\n",
       "  <tbody>\n",
       "    <tr>\n",
       "      <th>0</th>\n",
       "      <td>A0A075F5C6</td>\n",
       "      <td>unreviewed</td>\n",
       "      <td>A0A075F5C6_MOUSE</td>\n",
       "      <td>Heat shock factor 1 (Heat shock transcription ...</td>\n",
       "      <td>Hsf1</td>\n",
       "      <td>Mus musculus (Mouse)</td>\n",
       "      <td>531</td>\n",
       "      <td>COMPBIAS 343..355; /note=\"Polar residues\"; /ev...</td>\n",
       "      <td>57879</td>\n",
       "      <td>MDLAVGPGAAGPSNVPAFLTKLWTLVSDPDTDALICWSPSGNSFHV...</td>\n",
       "      <td>...</td>\n",
       "      <td>NaN</td>\n",
       "      <td>REGION 272..327; /note=\"Disordered\"; /evidence...</td>\n",
       "      <td>ENSMUST00000228371.2;</td>\n",
       "      <td>NaN</td>\n",
       "      <td>NaN</td>\n",
       "      <td>DOMAIN 57..81; /note=\"HSF-type DNA-binding\"; /...</td>\n",
       "      <td>NaN</td>\n",
       "      <td>NaN</td>\n",
       "      <td>NaN</td>\n",
       "      <td>centrosome [GO:0005813]; cytosol [GO:0005829];...</td>\n",
       "    </tr>\n",
       "    <tr>\n",
       "      <th>1</th>\n",
       "      <td>A0A087WPF7</td>\n",
       "      <td>reviewed</td>\n",
       "      <td>AUTS2_MOUSE</td>\n",
       "      <td>Autism susceptibility gene 2 protein homolog</td>\n",
       "      <td>Auts2 Kiaa0442</td>\n",
       "      <td>Mus musculus (Mouse)</td>\n",
       "      <td>1261</td>\n",
       "      <td>COMPBIAS 8..17; /note=\"Basic residues\"; /evide...</td>\n",
       "      <td>138920</td>\n",
       "      <td>MDGPTRGHGLRKKRRSRSQRDRERRSRAGLGTGAAGGIGAGRTRAP...</td>\n",
       "      <td>...</td>\n",
       "      <td>NaN</td>\n",
       "      <td>REGION 1..88; /note=\"Disordered\"; /evidence=\"E...</td>\n",
       "      <td>ENSMUST00000161226.11 [A0A087WPF7-1];ENSMUST00...</td>\n",
       "      <td>NaN</td>\n",
       "      <td>DOMAIN: The Pro-rich region is important for t...</td>\n",
       "      <td>NaN</td>\n",
       "      <td>NaN</td>\n",
       "      <td>NaN</td>\n",
       "      <td>NaN</td>\n",
       "      <td>cytoplasm [GO:0005737]; cytoskeleton [GO:00058...</td>\n",
       "    </tr>\n",
       "    <tr>\n",
       "      <th>2</th>\n",
       "      <td>A0A087WPT2</td>\n",
       "      <td>unreviewed</td>\n",
       "      <td>A0A087WPT2_MOUSE</td>\n",
       "      <td>Prostaglandin-endoperoxide synthase 2</td>\n",
       "      <td>Ptgs2</td>\n",
       "      <td>Mus musculus (Mouse)</td>\n",
       "      <td>62</td>\n",
       "      <td>NaN</td>\n",
       "      <td>7199</td>\n",
       "      <td>MSTGFDQYKCDCTRTGFYGENCTTPEFLTRIKLLLKPTPNTVHYIL...</td>\n",
       "      <td>...</td>\n",
       "      <td>NaN</td>\n",
       "      <td>NaN</td>\n",
       "      <td>ENSMUST00000190784.2;</td>\n",
       "      <td>NaN</td>\n",
       "      <td>NaN</td>\n",
       "      <td>DOMAIN 1..23; /note=\"EGF-like\"; /evidence=\"ECO...</td>\n",
       "      <td>NaN</td>\n",
       "      <td>NaN</td>\n",
       "      <td>NaN</td>\n",
       "      <td>NaN</td>\n",
       "    </tr>\n",
       "    <tr>\n",
       "      <th>3</th>\n",
       "      <td>A0A087WRK1</td>\n",
       "      <td>unreviewed</td>\n",
       "      <td>A0A087WRK1_MOUSE</td>\n",
       "      <td>Predicted gene, 20814 (Predicted gene, 20855) ...</td>\n",
       "      <td>Gm20905 Gm20814 Gm20835 Gm20850 Gm20855 Gm2086...</td>\n",
       "      <td>Mus musculus (Mouse)</td>\n",
       "      <td>222</td>\n",
       "      <td>NaN</td>\n",
       "      <td>25620</td>\n",
       "      <td>MRRMALKKLKVIPKEGYLLLLDFDDEDDDIKVSEEALSEVKSPAFD...</td>\n",
       "      <td>...</td>\n",
       "      <td>NaN</td>\n",
       "      <td>REGION 39..64; /note=\"Disordered\"; /evidence=\"...</td>\n",
       "      <td>ENSMUST00000185240.2;ENSMUST00000185245.2;ENSM...</td>\n",
       "      <td>NaN</td>\n",
       "      <td>NaN</td>\n",
       "      <td>DOMAIN 112..220; /note=\"XLR/SYCP3/FAM9\"; /evid...</td>\n",
       "      <td>NaN</td>\n",
       "      <td>NaN</td>\n",
       "      <td>NaN</td>\n",
       "      <td>cytoplasm [GO:0005737]; nucleus [GO:0005634]</td>\n",
       "    </tr>\n",
       "    <tr>\n",
       "      <th>4</th>\n",
       "      <td>A0A087WRT4</td>\n",
       "      <td>unreviewed</td>\n",
       "      <td>A0A087WRT4_MOUSE</td>\n",
       "      <td>FAT atypical cadherin 1</td>\n",
       "      <td>Fat1</td>\n",
       "      <td>Mus musculus (Mouse)</td>\n",
       "      <td>4602</td>\n",
       "      <td>COMPBIAS 4258..4267; /note=\"Polar residues\"; /...</td>\n",
       "      <td>507531</td>\n",
       "      <td>MGRHLTLLLLLLLFLQQFGDSDGSQRLEPTPPIQFTHFQYNVTVHE...</td>\n",
       "      <td>...</td>\n",
       "      <td>NaN</td>\n",
       "      <td>REGION 4256..4292; /note=\"Disordered\"; /eviden...</td>\n",
       "      <td>ENSMUST00000189017.8;</td>\n",
       "      <td>NaN</td>\n",
       "      <td>NaN</td>\n",
       "      <td>DOMAIN 36..150; /note=\"Cadherin\"; /evidence=\"E...</td>\n",
       "      <td>NaN</td>\n",
       "      <td>NaN</td>\n",
       "      <td>NaN</td>\n",
       "      <td>apical plasma membrane [GO:0016324]; cell junc...</td>\n",
       "    </tr>\n",
       "    <tr>\n",
       "      <th>...</th>\n",
       "      <td>...</td>\n",
       "      <td>...</td>\n",
       "      <td>...</td>\n",
       "      <td>...</td>\n",
       "      <td>...</td>\n",
       "      <td>...</td>\n",
       "      <td>...</td>\n",
       "      <td>...</td>\n",
       "      <td>...</td>\n",
       "      <td>...</td>\n",
       "      <td>...</td>\n",
       "      <td>...</td>\n",
       "      <td>...</td>\n",
       "      <td>...</td>\n",
       "      <td>...</td>\n",
       "      <td>...</td>\n",
       "      <td>...</td>\n",
       "      <td>...</td>\n",
       "      <td>...</td>\n",
       "      <td>...</td>\n",
       "      <td>...</td>\n",
       "    </tr>\n",
       "    <tr>\n",
       "      <th>87487</th>\n",
       "      <td>Z4YN82</td>\n",
       "      <td>unreviewed</td>\n",
       "      <td>Z4YN82_MOUSE</td>\n",
       "      <td>Syntaphilin</td>\n",
       "      <td>Snph</td>\n",
       "      <td>Mus musculus (Mouse)</td>\n",
       "      <td>87</td>\n",
       "      <td>NaN</td>\n",
       "      <td>9364</td>\n",
       "      <td>MAMSLQGSRRASAGSRRRTSPPVSVRDAYGTSSLSSSSNSGSCKGS...</td>\n",
       "      <td>...</td>\n",
       "      <td>NaN</td>\n",
       "      <td>REGION 1..74; /note=\"Disordered\"; /evidence=\"E...</td>\n",
       "      <td>ENSMUST00000137936.2;</td>\n",
       "      <td>NaN</td>\n",
       "      <td>NaN</td>\n",
       "      <td>NaN</td>\n",
       "      <td>NaN</td>\n",
       "      <td>NaN</td>\n",
       "      <td>NaN</td>\n",
       "      <td>membrane [GO:0016020]</td>\n",
       "    </tr>\n",
       "    <tr>\n",
       "      <th>87488</th>\n",
       "      <td>Z4YN86</td>\n",
       "      <td>unreviewed</td>\n",
       "      <td>Z4YN86_MOUSE</td>\n",
       "      <td>Translocase of inner mitochondrial membrane 22</td>\n",
       "      <td>Timm22</td>\n",
       "      <td>Mus musculus (Mouse)</td>\n",
       "      <td>116</td>\n",
       "      <td>NaN</td>\n",
       "      <td>12689</td>\n",
       "      <td>MAATAPKAGGSAPEAAGSAEAPLQYSLLLQYLVGDKRQPRLLEPGS...</td>\n",
       "      <td>...</td>\n",
       "      <td>NaN</td>\n",
       "      <td>NaN</td>\n",
       "      <td>ENSMUST00000152183.2;</td>\n",
       "      <td>NaN</td>\n",
       "      <td>NaN</td>\n",
       "      <td>NaN</td>\n",
       "      <td>NaN</td>\n",
       "      <td>NaN</td>\n",
       "      <td>NaN</td>\n",
       "      <td>NaN</td>\n",
       "    </tr>\n",
       "    <tr>\n",
       "      <th>87489</th>\n",
       "      <td>Z4YN92</td>\n",
       "      <td>unreviewed</td>\n",
       "      <td>Z4YN92_MOUSE</td>\n",
       "      <td>A kinase anchor protein 17B</td>\n",
       "      <td>Akap17b</td>\n",
       "      <td>Mus musculus (Mouse)</td>\n",
       "      <td>406</td>\n",
       "      <td>COMPBIAS 24..52; /note=\"Basic and acidic resid...</td>\n",
       "      <td>47765</td>\n",
       "      <td>MFDTTKHFSEGAIQRRNQERLKLQELEEERKKEKKREEEVAERKRK...</td>\n",
       "      <td>...</td>\n",
       "      <td>NaN</td>\n",
       "      <td>REGION 24..90; /note=\"Disordered\"; /evidence=\"...</td>\n",
       "      <td>ENSMUST00000133980.2;</td>\n",
       "      <td>NaN</td>\n",
       "      <td>NaN</td>\n",
       "      <td>NaN</td>\n",
       "      <td>NaN</td>\n",
       "      <td>NaN</td>\n",
       "      <td>NaN</td>\n",
       "      <td>NaN</td>\n",
       "    </tr>\n",
       "    <tr>\n",
       "      <th>87490</th>\n",
       "      <td>Z4YN97</td>\n",
       "      <td>unreviewed</td>\n",
       "      <td>Z4YN97_MOUSE</td>\n",
       "      <td>Adenylate kinase 1</td>\n",
       "      <td>Ak1</td>\n",
       "      <td>Mus musculus (Mouse)</td>\n",
       "      <td>89</td>\n",
       "      <td>NaN</td>\n",
       "      <td>9541</td>\n",
       "      <td>MEEKLKKAKIIFVVGGPGSGKGTQCEKIVQKYGYTHLSTGDLLRAE...</td>\n",
       "      <td>...</td>\n",
       "      <td>NaN</td>\n",
       "      <td>NaN</td>\n",
       "      <td>ENSMUST00000156578.8;</td>\n",
       "      <td>NaN</td>\n",
       "      <td>NaN</td>\n",
       "      <td>NaN</td>\n",
       "      <td>NaN</td>\n",
       "      <td>NaN</td>\n",
       "      <td>NaN</td>\n",
       "      <td>cytoplasm [GO:0005737]</td>\n",
       "    </tr>\n",
       "    <tr>\n",
       "      <th>87491</th>\n",
       "      <td>Z4YNA9</td>\n",
       "      <td>unreviewed</td>\n",
       "      <td>Z4YNA9_MOUSE</td>\n",
       "      <td>cDNA sequence AB124611</td>\n",
       "      <td>AB124611</td>\n",
       "      <td>Mus musculus (Mouse)</td>\n",
       "      <td>196</td>\n",
       "      <td>NaN</td>\n",
       "      <td>20877</td>\n",
       "      <td>MGGEMPWTILLFASGSLAIPAPSISLVPPYPSSHEDPIYISCTAPG...</td>\n",
       "      <td>...</td>\n",
       "      <td>NaN</td>\n",
       "      <td>REGION 164..196; /note=\"Disordered\"; /evidence...</td>\n",
       "      <td>ENSMUST00000173769;</td>\n",
       "      <td>NaN</td>\n",
       "      <td>NaN</td>\n",
       "      <td>DOMAIN 26..120; /note=\"C19orf38 Ig\"; /evidence...</td>\n",
       "      <td>NaN</td>\n",
       "      <td>NaN</td>\n",
       "      <td>NaN</td>\n",
       "      <td>NaN</td>\n",
       "    </tr>\n",
       "  </tbody>\n",
       "</table>\n",
       "<p>87492 rows × 21 columns</p>\n",
       "</div>"
      ],
      "text/plain": [
       "            Entry    Reviewed        Entry Name  \\\n",
       "0      A0A075F5C6  unreviewed  A0A075F5C6_MOUSE   \n",
       "1      A0A087WPF7    reviewed       AUTS2_MOUSE   \n",
       "2      A0A087WPT2  unreviewed  A0A087WPT2_MOUSE   \n",
       "3      A0A087WRK1  unreviewed  A0A087WRK1_MOUSE   \n",
       "4      A0A087WRT4  unreviewed  A0A087WRT4_MOUSE   \n",
       "...           ...         ...               ...   \n",
       "87487      Z4YN82  unreviewed      Z4YN82_MOUSE   \n",
       "87488      Z4YN86  unreviewed      Z4YN86_MOUSE   \n",
       "87489      Z4YN92  unreviewed      Z4YN92_MOUSE   \n",
       "87490      Z4YN97  unreviewed      Z4YN97_MOUSE   \n",
       "87491      Z4YNA9  unreviewed      Z4YNA9_MOUSE   \n",
       "\n",
       "                                           Protein names  \\\n",
       "0      Heat shock factor 1 (Heat shock transcription ...   \n",
       "1           Autism susceptibility gene 2 protein homolog   \n",
       "2                  Prostaglandin-endoperoxide synthase 2   \n",
       "3      Predicted gene, 20814 (Predicted gene, 20855) ...   \n",
       "4                                FAT atypical cadherin 1   \n",
       "...                                                  ...   \n",
       "87487                                        Syntaphilin   \n",
       "87488     Translocase of inner mitochondrial membrane 22   \n",
       "87489                        A kinase anchor protein 17B   \n",
       "87490                                 Adenylate kinase 1   \n",
       "87491                             cDNA sequence AB124611   \n",
       "\n",
       "                                              Gene Names  \\\n",
       "0                                                   Hsf1   \n",
       "1                                         Auts2 Kiaa0442   \n",
       "2                                                  Ptgs2   \n",
       "3      Gm20905 Gm20814 Gm20835 Gm20850 Gm20855 Gm2086...   \n",
       "4                                                   Fat1   \n",
       "...                                                  ...   \n",
       "87487                                               Snph   \n",
       "87488                                             Timm22   \n",
       "87489                                            Akap17b   \n",
       "87490                                                Ak1   \n",
       "87491                                           AB124611   \n",
       "\n",
       "                   Organism  Length  \\\n",
       "0      Mus musculus (Mouse)     531   \n",
       "1      Mus musculus (Mouse)    1261   \n",
       "2      Mus musculus (Mouse)      62   \n",
       "3      Mus musculus (Mouse)     222   \n",
       "4      Mus musculus (Mouse)    4602   \n",
       "...                     ...     ...   \n",
       "87487  Mus musculus (Mouse)      87   \n",
       "87488  Mus musculus (Mouse)     116   \n",
       "87489  Mus musculus (Mouse)     406   \n",
       "87490  Mus musculus (Mouse)      89   \n",
       "87491  Mus musculus (Mouse)     196   \n",
       "\n",
       "                                      Compositional bias    Mass  \\\n",
       "0      COMPBIAS 343..355; /note=\"Polar residues\"; /ev...   57879   \n",
       "1      COMPBIAS 8..17; /note=\"Basic residues\"; /evide...  138920   \n",
       "2                                                    NaN    7199   \n",
       "3                                                    NaN   25620   \n",
       "4      COMPBIAS 4258..4267; /note=\"Polar residues\"; /...  507531   \n",
       "...                                                  ...     ...   \n",
       "87487                                                NaN    9364   \n",
       "87488                                                NaN   12689   \n",
       "87489  COMPBIAS 24..52; /note=\"Basic and acidic resid...   47765   \n",
       "87490                                                NaN    9541   \n",
       "87491                                                NaN   20877   \n",
       "\n",
       "                                                Sequence  ... Redox potential  \\\n",
       "0      MDLAVGPGAAGPSNVPAFLTKLWTLVSDPDTDALICWSPSGNSFHV...  ...             NaN   \n",
       "1      MDGPTRGHGLRKKRRSRSQRDRERRSRAGLGTGAAGGIGAGRTRAP...  ...             NaN   \n",
       "2      MSTGFDQYKCDCTRTGFYGENCTTPEFLTRIKLLLKPTPNTVHYIL...  ...             NaN   \n",
       "3      MRRMALKKLKVIPKEGYLLLLDFDDEDDDIKVSEEALSEVKSPAFD...  ...             NaN   \n",
       "4      MGRHLTLLLLLLLFLQQFGDSDGSQRLEPTPPIQFTHFQYNVTVHE...  ...             NaN   \n",
       "...                                                  ...  ...             ...   \n",
       "87487  MAMSLQGSRRASAGSRRRTSPPVSVRDAYGTSSLSSSSNSGSCKGS...  ...             NaN   \n",
       "87488  MAATAPKAGGSAPEAAGSAEAPLQYSLLLQYLVGDKRQPRLLEPGS...  ...             NaN   \n",
       "87489  MFDTTKHFSEGAIQRRNQERLKLQELEEERKKEKKREEEVAERKRK...  ...             NaN   \n",
       "87490  MEEKLKKAKIIFVVGGPGSGKGTQCEKIVQKYGYTHLSTGDLLRAE...  ...             NaN   \n",
       "87491  MGGEMPWTILLFASGSLAIPAPSISLVPPYPSSHEDPIYISCTAPG...  ...             NaN   \n",
       "\n",
       "                                                  Region  \\\n",
       "0      REGION 272..327; /note=\"Disordered\"; /evidence...   \n",
       "1      REGION 1..88; /note=\"Disordered\"; /evidence=\"E...   \n",
       "2                                                    NaN   \n",
       "3      REGION 39..64; /note=\"Disordered\"; /evidence=\"...   \n",
       "4      REGION 4256..4292; /note=\"Disordered\"; /eviden...   \n",
       "...                                                  ...   \n",
       "87487  REGION 1..74; /note=\"Disordered\"; /evidence=\"E...   \n",
       "87488                                                NaN   \n",
       "87489  REGION 24..90; /note=\"Disordered\"; /evidence=\"...   \n",
       "87490                                                NaN   \n",
       "87491  REGION 164..196; /note=\"Disordered\"; /evidence...   \n",
       "\n",
       "                                                 Ensembl Coiled coil  \\\n",
       "0                                  ENSMUST00000228371.2;         NaN   \n",
       "1      ENSMUST00000161226.11 [A0A087WPF7-1];ENSMUST00...         NaN   \n",
       "2                                  ENSMUST00000190784.2;         NaN   \n",
       "3      ENSMUST00000185240.2;ENSMUST00000185245.2;ENSM...         NaN   \n",
       "4                                  ENSMUST00000189017.8;         NaN   \n",
       "...                                                  ...         ...   \n",
       "87487                              ENSMUST00000137936.2;         NaN   \n",
       "87488                              ENSMUST00000152183.2;         NaN   \n",
       "87489                              ENSMUST00000133980.2;         NaN   \n",
       "87490                              ENSMUST00000156578.8;         NaN   \n",
       "87491                                ENSMUST00000173769;         NaN   \n",
       "\n",
       "                                             Domain [CC]  \\\n",
       "0                                                    NaN   \n",
       "1      DOMAIN: The Pro-rich region is important for t...   \n",
       "2                                                    NaN   \n",
       "3                                                    NaN   \n",
       "4                                                    NaN   \n",
       "...                                                  ...   \n",
       "87487                                                NaN   \n",
       "87488                                                NaN   \n",
       "87489                                                NaN   \n",
       "87490                                                NaN   \n",
       "87491                                                NaN   \n",
       "\n",
       "                                             Domain [FT] Motif Repeat  \\\n",
       "0      DOMAIN 57..81; /note=\"HSF-type DNA-binding\"; /...   NaN    NaN   \n",
       "1                                                    NaN   NaN    NaN   \n",
       "2      DOMAIN 1..23; /note=\"EGF-like\"; /evidence=\"ECO...   NaN    NaN   \n",
       "3      DOMAIN 112..220; /note=\"XLR/SYCP3/FAM9\"; /evid...   NaN    NaN   \n",
       "4      DOMAIN 36..150; /note=\"Cadherin\"; /evidence=\"E...   NaN    NaN   \n",
       "...                                                  ...   ...    ...   \n",
       "87487                                                NaN   NaN    NaN   \n",
       "87488                                                NaN   NaN    NaN   \n",
       "87489                                                NaN   NaN    NaN   \n",
       "87490                                                NaN   NaN    NaN   \n",
       "87491  DOMAIN 26..120; /note=\"C19orf38 Ig\"; /evidence...   NaN    NaN   \n",
       "\n",
       "      Zinc finger                 Gene Ontology (cellular component)  \n",
       "0             NaN  centrosome [GO:0005813]; cytosol [GO:0005829];...  \n",
       "1             NaN  cytoplasm [GO:0005737]; cytoskeleton [GO:00058...  \n",
       "2             NaN                                                NaN  \n",
       "3             NaN       cytoplasm [GO:0005737]; nucleus [GO:0005634]  \n",
       "4             NaN  apical plasma membrane [GO:0016324]; cell junc...  \n",
       "...           ...                                                ...  \n",
       "87487         NaN                              membrane [GO:0016020]  \n",
       "87488         NaN                                                NaN  \n",
       "87489         NaN                                                NaN  \n",
       "87490         NaN                             cytoplasm [GO:0005737]  \n",
       "87491         NaN                                                NaN  \n",
       "\n",
       "[87492 rows x 21 columns]"
      ]
     },
     "execution_count": 2,
     "metadata": {},
     "output_type": "execute_result"
    }
   ],
   "source": [
    "uniprot_data_all = pd.read_csv('data/uniprot_data/uniprotkb_taxonomy_id_10090_2025_03_25.tsv', sep='\\t')\n",
    "uniprot_data_all"
   ]
  },
  {
   "cell_type": "markdown",
   "metadata": {},
   "source": [
    "**Select the enriched proteins in each nucleolar compartments based on p-value cutoff**"
   ]
  },
  {
   "cell_type": "code",
   "execution_count": 4,
   "metadata": {},
   "outputs": [
    {
     "name": "stdout",
     "output_type": "stream",
     "text": [
      "S45_genes:    84\n",
      "ITS2_genes:   75\n",
      "S47_genes_vs_S45:  182\n",
      "S47_genes_vs_ITS2:  393\n",
      "S47_genes:    118\n"
     ]
    }
   ],
   "source": [
    "proteome_data = pd.read_excel(\"data/proteome_data/Df.res_Nucleolar dataset_20250210.xlsx\")\n",
    "\n",
    "S45_genes = set(proteome_data[(proteome_data[\"lab5_S47.min.p\"] < 0.05) & (proteome_data[\"lab5_S47.min\"] > 0.0)][\"Majority.protein.IDs\"].tolist())\n",
    "ITS2_genes = set(proteome_data[(proteome_data[\"lab5_ITS2.min.p\"] < 0.05) & (proteome_data[\"lab5_ITS2.min\"] > 0.0)][\"Majority.protein.IDs\"].tolist())\n",
    "\n",
    "print(\"S45_genes:   \", len(S45_genes))\n",
    "print(\"ITS2_genes:  \", len(ITS2_genes))\n",
    "\n",
    "S47_genes_vs_S45 = set(proteome_data[(proteome_data[\"lab5_S47.min.p\"] < 0.05) & (proteome_data[\"lab5_S47.min\"] < 0.0)][\"Majority.protein.IDs\"].tolist())\n",
    "S47_genes_vs_ITS2  = set(proteome_data[(proteome_data[\"lab5_ITS2.min.p\"] < 0.05) & (proteome_data[\"lab5_ITS2.min\"] < 0.0)][\"Majority.protein.IDs\"].tolist())\n",
    "print(\"S47_genes_vs_S45: \", len(S47_genes_vs_S45))\n",
    "print(\"S47_genes_vs_ITS2: \", len(S47_genes_vs_ITS2))\n",
    "\n",
    "S47_genes = S47_genes_vs_S45.intersection(S47_genes_vs_ITS2)\n",
    "print(\"S47_genes:   \", len(S47_genes))"
   ]
  },
  {
   "cell_type": "markdown",
   "metadata": {},
   "source": [
    "**Clean up the dataframe and format**"
   ]
  },
  {
   "cell_type": "code",
   "execution_count": 5,
   "metadata": {},
   "outputs": [
    {
     "name": "stdout",
     "output_type": "stream",
     "text": [
      "P49945 not in uniprot data\n",
      "A0A2I3BPG9 not in uniprot data\n"
     ]
    },
    {
     "data": {
      "text/plain": [
       "Label\n",
       "S47    122\n",
       "S45     91\n",
       "Name: count, dtype: int64"
      ]
     },
     "execution_count": 5,
     "metadata": {},
     "output_type": "execute_result"
    }
   ],
   "source": [
    "rows = []\n",
    "\n",
    "lists = [S45_genes, S47_genes]\n",
    "names = [\"S45\", \"S47\"]\n",
    "\n",
    "for i, l in enumerate(lists):\n",
    "    for gene in l:\n",
    "        if \";\" in gene:\n",
    "            gene_sep = gene.split(\";\")\n",
    "            for g in gene_sep:\n",
    "                if g not in uniprot_data_all[\"Entry\"].values:\n",
    "                    print(f\"{g} not in uniprot data\")\n",
    "                    continue\n",
    "\n",
    "                rows.append({\n",
    "                    \"Majority.protein.IDs\": gene,\n",
    "                    \"Reviewed\": uniprot_data_all[uniprot_data_all[\"Entry\"] == g][\"Reviewed\"].values[0],\n",
    "                    \"Protein ID\": g,\n",
    "                    \"Sequence\": uniprot_data_all[uniprot_data_all[\"Entry\"] == g][\"Sequence\"].values[0],\n",
    "                    \"Label\": names[i],\n",
    "                })\n",
    "        else:\n",
    "            g = gene\n",
    "            if g not in uniprot_data_all[\"Entry\"].values:\n",
    "                print(f\"{g} not in uniprot data\")\n",
    "                continue\n",
    "            seq = uniprot_data_all[uniprot_data_all[\"Entry\"] == g][\"Sequence\"].values[0]\n",
    "            reviewed = uniprot_data_all[uniprot_data_all[\"Entry\"] == g][\"Reviewed\"].values[0]\n",
    "            rows.append({\n",
    "                \"Majority.protein.IDs\": gene,\n",
    "                \"Reviewed\": uniprot_data_all[uniprot_data_all[\"Entry\"] == g][\"Reviewed\"].values[0],\n",
    "                \"Protein ID\": g,\n",
    "                \"Sequence\": uniprot_data_all[uniprot_data_all[\"Entry\"] == g][\"Sequence\"].values[0],\n",
    "                \"Label\": names[i],\n",
    "            })\n",
    "\n",
    "cleaned_data = pd.DataFrame(rows)\n",
    "cleaned_data[\"Label\"].value_counts()"
   ]
  },
  {
   "cell_type": "markdown",
   "metadata": {},
   "source": [
    "**Only select the review-ed or longest protein per Majority.protein.IDs**"
   ]
  },
  {
   "cell_type": "code",
   "execution_count": 6,
   "metadata": {},
   "outputs": [
    {
     "data": {
      "text/plain": [
       "Label\n",
       "S47    118\n",
       "S45     84\n",
       "Name: count, dtype: int64"
      ]
     },
     "execution_count": 6,
     "metadata": {},
     "output_type": "execute_result"
    }
   ],
   "source": [
    "import pandas as pd\n",
    "cleaned_data[\"SeqLength\"] = cleaned_data[\"Sequence\"].apply(len)\n",
    "\n",
    "final_rows = []\n",
    "\n",
    "for protein_group, group_df in cleaned_data.groupby([\"Majority.protein.IDs\", \"Label\"]):\n",
    "    reviewed_df = group_df[group_df[\"Reviewed\"] == \"reviewed\"]\n",
    "\n",
    "    if len(reviewed_df) == 1:\n",
    "        final_rows.append(reviewed_df.iloc[0])\n",
    "\n",
    "    elif len(reviewed_df) > 1:\n",
    "        reviewed_df[\"SeqLength\"] = reviewed_df[\"Sequence\"].apply(len)\n",
    "        longest = reviewed_df.sort_values(\"SeqLength\", ascending=False).iloc[0]\n",
    "        final_rows.append(longest)\n",
    "\n",
    "    else:\n",
    "        group_df[\"SeqLength\"] = group_df[\"Sequence\"].apply(len)\n",
    "        longest = group_df.sort_values(\"SeqLength\", ascending=False).iloc[0]\n",
    "        final_rows.append(longest)\n",
    "\n",
    "representations_45S_47S_df = pd.DataFrame(final_rows).drop(columns=[\"SeqLength\"]).reset_index(drop=True)\n",
    "representations_45S_47S_df[\"Length\"] = representations_45S_47S_df[\"Sequence\"].apply(len)\n",
    "representations_45S_47S_df[\"Label\"].value_counts()"
   ]
  },
  {
   "cell_type": "markdown",
   "metadata": {},
   "source": [
    "**Calculate single score metrics from localCIDER**"
   ]
  },
  {
   "cell_type": "code",
   "execution_count": 7,
   "metadata": {},
   "outputs": [
    {
     "name": "stderr",
     "output_type": "stream",
     "text": [
      "121it [00:00, 285.61it/s]"
     ]
    },
    {
     "name": "stdout",
     "output_type": "stream",
     "text": [
      "Replacing U → C in sequence: MAPHGRKRKAGAAPMETVDKREKLAEGATVVIEHCTSURVYGRHAAALSQALQLEAPELPVQVNPSKPRRGSFEVTLLRSDNSRVELWTGIKKGPPRKLKFPEPQEVVEELKKYLS\n"
     ]
    },
    {
     "name": "stderr",
     "output_type": "stream",
     "text": [
      "202it [00:00, 286.20it/s]\n"
     ]
    },
    {
     "name": "stdout",
     "output_type": "stream",
     "text": [
      "Replacing U → C in sequence: MPVDDCWLYFPASRGRTFVQTVWVAPTCPNCCWFPGFLPPVPRPPHVPRVLLRGPRGAVLPASRPSKTLPSSSQTPCPTDPCICPPPSTPDSRQEKNTQSELPNKKGQLQKLPTMNGSKDPPGSYDFDLIIIGGGSGGLAAAKEAAKFDKKVLVLDFVTPTPLGTRWGLGGTCVNVGCIPKKLMHQAALLGQALKDSRNYGWKVEDTVKHDWEKMTESVQSHIGSLNWGYRVALREKKVVYENAYGRFIGPHRIVATNNKGKEKIYSAERFLIATGERPRYLGIPGDKEYCISSDDLFSLPYCPGKTLVVGASYVALECAGFLAGIGLDVTVMVRSILLRGFDQDMANKIGEHMEEHGIKFIRQFVPTKIEQIEAGTPGRLRVTAQSTNSEETIEGEFNTVLLAVGRDSCTRTIGLETVGVKINEKTGKIPVTDEEQTNVPYIYAIGDILEGKLELTPVAIQAGRLLAQRLYGGSNVKCDYDNVPTTVFTPLEYGCCGLSEEKAVEKFGEENIEVYHSFFWPLEWTVPSRDNNKCYAKIICNLKDDERVVGFHVLGPNAGEVTQGFAAALKCGLTKQQLDSTIGIHPVCAEIFTTLSVTKRSGGDILQSGCUG\n",
      "Computing get_length\n"
     ]
    },
    {
     "name": "stderr",
     "output_type": "stream",
     "text": [
      "100%|██████████| 202/202 [00:00<00:00, 686031.91it/s]\n"
     ]
    },
    {
     "name": "stdout",
     "output_type": "stream",
     "text": [
      "Computing get_FCR\n"
     ]
    },
    {
     "name": "stderr",
     "output_type": "stream",
     "text": [
      "100%|██████████| 202/202 [00:00<00:00, 68106.87it/s]\n"
     ]
    },
    {
     "name": "stdout",
     "output_type": "stream",
     "text": [
      "Computing get_NCPR\n"
     ]
    },
    {
     "name": "stderr",
     "output_type": "stream",
     "text": [
      "100%|██████████| 202/202 [00:00<00:00, 70212.10it/s]\n"
     ]
    },
    {
     "name": "stdout",
     "output_type": "stream",
     "text": [
      "Computing get_isoelectric_point\n"
     ]
    },
    {
     "name": "stderr",
     "output_type": "stream",
     "text": [
      "100%|██████████| 202/202 [00:00<00:00, 617.93it/s]\n"
     ]
    },
    {
     "name": "stdout",
     "output_type": "stream",
     "text": [
      "Computing get_molecular_weight\n"
     ]
    },
    {
     "name": "stderr",
     "output_type": "stream",
     "text": [
      "100%|██████████| 202/202 [00:00<00:00, 27455.50it/s]\n"
     ]
    },
    {
     "name": "stdout",
     "output_type": "stream",
     "text": [
      "Computing get_countNeg\n"
     ]
    },
    {
     "name": "stderr",
     "output_type": "stream",
     "text": [
      "100%|██████████| 202/202 [00:00<00:00, 155658.54it/s]\n"
     ]
    },
    {
     "name": "stdout",
     "output_type": "stream",
     "text": [
      "Computing get_countPos\n"
     ]
    },
    {
     "name": "stderr",
     "output_type": "stream",
     "text": [
      "100%|██████████| 202/202 [00:00<00:00, 102560.15it/s]\n"
     ]
    },
    {
     "name": "stdout",
     "output_type": "stream",
     "text": [
      "Computing get_countNeut\n"
     ]
    },
    {
     "name": "stderr",
     "output_type": "stream",
     "text": [
      "100%|██████████| 202/202 [00:00<00:00, 103461.89it/s]\n"
     ]
    },
    {
     "name": "stdout",
     "output_type": "stream",
     "text": [
      "Computing get_fraction_negative\n"
     ]
    },
    {
     "name": "stderr",
     "output_type": "stream",
     "text": [
      "100%|██████████| 202/202 [00:00<00:00, 111627.06it/s]\n"
     ]
    },
    {
     "name": "stdout",
     "output_type": "stream",
     "text": [
      "Computing get_fraction_positive\n"
     ]
    },
    {
     "name": "stderr",
     "output_type": "stream",
     "text": [
      "100%|██████████| 202/202 [00:00<00:00, 117853.58it/s]\n"
     ]
    },
    {
     "name": "stdout",
     "output_type": "stream",
     "text": [
      "Computing get_fraction_expanding\n"
     ]
    },
    {
     "name": "stderr",
     "output_type": "stream",
     "text": [
      "100%|██████████| 202/202 [00:00<00:00, 63421.62it/s]\n"
     ]
    },
    {
     "name": "stdout",
     "output_type": "stream",
     "text": [
      "Computing get_fraction_disorder_promoting\n"
     ]
    },
    {
     "name": "stderr",
     "output_type": "stream",
     "text": [
      "100%|██████████| 202/202 [00:00<00:00, 11156.24it/s]\n"
     ]
    },
    {
     "name": "stdout",
     "output_type": "stream",
     "text": [
      "Computing get_kappa\n"
     ]
    },
    {
     "name": "stderr",
     "output_type": "stream",
     "text": [
      "100%|██████████| 202/202 [02:02<00:00,  1.65it/s]\n"
     ]
    },
    {
     "name": "stdout",
     "output_type": "stream",
     "text": [
      "Computing get_Omega\n"
     ]
    },
    {
     "name": "stderr",
     "output_type": "stream",
     "text": [
      "100%|██████████| 202/202 [19:25<00:00,  5.77s/it] \n"
     ]
    },
    {
     "name": "stdout",
     "output_type": "stream",
     "text": [
      "Computing get_mean_net_charge\n"
     ]
    },
    {
     "name": "stderr",
     "output_type": "stream",
     "text": [
      "100%|██████████| 202/202 [00:00<00:00, 61730.38it/s]\n"
     ]
    },
    {
     "name": "stdout",
     "output_type": "stream",
     "text": [
      "Computing get_mean_hydropathy\n"
     ]
    },
    {
     "name": "stderr",
     "output_type": "stream",
     "text": [
      "100%|██████████| 202/202 [00:00<00:00, 1350.18it/s]\n"
     ]
    },
    {
     "name": "stdout",
     "output_type": "stream",
     "text": [
      "Computing get_uversky_hydropathy\n"
     ]
    },
    {
     "name": "stderr",
     "output_type": "stream",
     "text": [
      "100%|██████████| 202/202 [00:00<00:00, 8626.30it/s]\n"
     ]
    },
    {
     "name": "stdout",
     "output_type": "stream",
     "text": [
      "Computing get_PPII_propensity\n"
     ]
    },
    {
     "name": "stderr",
     "output_type": "stream",
     "text": [
      "100%|██████████| 202/202 [00:00<00:00, 1252.26it/s]\n"
     ]
    },
    {
     "name": "stdout",
     "output_type": "stream",
     "text": [
      "Computing get_delta\n"
     ]
    },
    {
     "name": "stderr",
     "output_type": "stream",
     "text": [
      "100%|██████████| 202/202 [00:01<00:00, 110.15it/s]\n"
     ]
    },
    {
     "name": "stdout",
     "output_type": "stream",
     "text": [
      "Computing get_deltaMax\n"
     ]
    },
    {
     "name": "stderr",
     "output_type": "stream",
     "text": [
      "100%|██████████| 202/202 [00:00<00:00, 536573.41it/s]\n"
     ]
    },
    {
     "name": "stdout",
     "output_type": "stream",
     "text": [
      "Computing _aa_fraction_A\n"
     ]
    },
    {
     "name": "stderr",
     "output_type": "stream",
     "text": [
      "100%|██████████| 202/202 [00:00<00:00, 14738.36it/s]\n"
     ]
    },
    {
     "name": "stdout",
     "output_type": "stream",
     "text": [
      "Computing _aa_fraction_C\n"
     ]
    },
    {
     "name": "stderr",
     "output_type": "stream",
     "text": [
      "100%|██████████| 202/202 [00:00<00:00, 13610.87it/s]\n"
     ]
    },
    {
     "name": "stdout",
     "output_type": "stream",
     "text": [
      "Computing _aa_fraction_D\n"
     ]
    },
    {
     "name": "stderr",
     "output_type": "stream",
     "text": [
      "100%|██████████| 202/202 [00:00<00:00, 8121.17it/s]\n"
     ]
    },
    {
     "name": "stdout",
     "output_type": "stream",
     "text": [
      "Computing _aa_fraction_E\n"
     ]
    },
    {
     "name": "stderr",
     "output_type": "stream",
     "text": [
      "100%|██████████| 202/202 [00:00<00:00, 15072.39it/s]\n"
     ]
    },
    {
     "name": "stdout",
     "output_type": "stream",
     "text": [
      "Computing _aa_fraction_F\n"
     ]
    },
    {
     "name": "stderr",
     "output_type": "stream",
     "text": [
      "100%|██████████| 202/202 [00:00<00:00, 15332.61it/s]\n"
     ]
    },
    {
     "name": "stdout",
     "output_type": "stream",
     "text": [
      "Computing _aa_fraction_G\n"
     ]
    },
    {
     "name": "stderr",
     "output_type": "stream",
     "text": [
      "100%|██████████| 202/202 [00:00<00:00, 12906.73it/s]\n"
     ]
    },
    {
     "name": "stdout",
     "output_type": "stream",
     "text": [
      "Computing _aa_fraction_H\n"
     ]
    },
    {
     "name": "stderr",
     "output_type": "stream",
     "text": [
      "100%|██████████| 202/202 [00:00<00:00, 11911.28it/s]\n"
     ]
    },
    {
     "name": "stdout",
     "output_type": "stream",
     "text": [
      "Computing _aa_fraction_I\n"
     ]
    },
    {
     "name": "stderr",
     "output_type": "stream",
     "text": [
      "100%|██████████| 202/202 [00:00<00:00, 11605.04it/s]\n"
     ]
    },
    {
     "name": "stdout",
     "output_type": "stream",
     "text": [
      "Computing _aa_fraction_K\n"
     ]
    },
    {
     "name": "stderr",
     "output_type": "stream",
     "text": [
      "100%|██████████| 202/202 [00:00<00:00, 15961.74it/s]\n"
     ]
    },
    {
     "name": "stdout",
     "output_type": "stream",
     "text": [
      "Computing _aa_fraction_L\n"
     ]
    },
    {
     "name": "stderr",
     "output_type": "stream",
     "text": [
      "100%|██████████| 202/202 [00:00<00:00, 12938.66it/s]\n"
     ]
    },
    {
     "name": "stdout",
     "output_type": "stream",
     "text": [
      "Computing _aa_fraction_M\n"
     ]
    },
    {
     "name": "stderr",
     "output_type": "stream",
     "text": [
      "100%|██████████| 202/202 [00:00<00:00, 11939.14it/s]\n"
     ]
    },
    {
     "name": "stdout",
     "output_type": "stream",
     "text": [
      "Computing _aa_fraction_N\n"
     ]
    },
    {
     "name": "stderr",
     "output_type": "stream",
     "text": [
      "100%|██████████| 202/202 [00:00<00:00, 14815.68it/s]\n"
     ]
    },
    {
     "name": "stdout",
     "output_type": "stream",
     "text": [
      "Computing _aa_fraction_P\n"
     ]
    },
    {
     "name": "stderr",
     "output_type": "stream",
     "text": [
      "100%|██████████| 202/202 [00:00<00:00, 15975.29it/s]\n"
     ]
    },
    {
     "name": "stdout",
     "output_type": "stream",
     "text": [
      "Computing _aa_fraction_Q\n"
     ]
    },
    {
     "name": "stderr",
     "output_type": "stream",
     "text": [
      "100%|██████████| 202/202 [00:00<00:00, 12658.17it/s]\n"
     ]
    },
    {
     "name": "stdout",
     "output_type": "stream",
     "text": [
      "Computing _aa_fraction_R\n"
     ]
    },
    {
     "name": "stderr",
     "output_type": "stream",
     "text": [
      "100%|██████████| 202/202 [00:00<00:00, 12969.16it/s]\n"
     ]
    },
    {
     "name": "stdout",
     "output_type": "stream",
     "text": [
      "Computing _aa_fraction_S\n"
     ]
    },
    {
     "name": "stderr",
     "output_type": "stream",
     "text": [
      "100%|██████████| 202/202 [00:00<00:00, 12853.86it/s]\n"
     ]
    },
    {
     "name": "stdout",
     "output_type": "stream",
     "text": [
      "Computing _aa_fraction_T\n"
     ]
    },
    {
     "name": "stderr",
     "output_type": "stream",
     "text": [
      "100%|██████████| 202/202 [00:00<00:00, 13225.05it/s]\n"
     ]
    },
    {
     "name": "stdout",
     "output_type": "stream",
     "text": [
      "Computing _aa_fraction_V\n"
     ]
    },
    {
     "name": "stderr",
     "output_type": "stream",
     "text": [
      "100%|██████████| 202/202 [00:00<00:00, 12701.06it/s]\n"
     ]
    },
    {
     "name": "stdout",
     "output_type": "stream",
     "text": [
      "Computing _aa_fraction_W\n"
     ]
    },
    {
     "name": "stderr",
     "output_type": "stream",
     "text": [
      "100%|██████████| 202/202 [00:00<00:00, 16136.55it/s]\n"
     ]
    },
    {
     "name": "stdout",
     "output_type": "stream",
     "text": [
      "Computing _aa_fraction_Y\n"
     ]
    },
    {
     "name": "stderr",
     "output_type": "stream",
     "text": [
      "100%|██████████| 202/202 [00:00<00:00, 11782.90it/s]\n"
     ]
    },
    {
     "data": {
      "text/plain": [
       "Index(['FCR', 'NCPR', 'Omega', 'PPII_propensity', 'count_negative',\n",
       "       'count_neutral', 'count_positive', 'delta', 'delta_max', 'frac_A',\n",
       "       'frac_C', 'frac_D', 'frac_E', 'frac_F', 'frac_G', 'frac_H', 'frac_I',\n",
       "       'frac_K', 'frac_L', 'frac_M', 'frac_N', 'frac_P', 'frac_Q', 'frac_R',\n",
       "       'frac_S', 'frac_T', 'frac_V', 'frac_W', 'frac_Y',\n",
       "       'fraction_disorder_promoting', 'fraction_expanding',\n",
       "       'fraction_negative', 'fraction_positive', 'isoelectric_point', 'kappa',\n",
       "       'length', 'mean_hydropathy', 'mean_net_charge', 'molecular_weight',\n",
       "       'uversky_hydropathy'],\n",
       "      dtype='object')"
      ]
     },
     "execution_count": 7,
     "metadata": {},
     "output_type": "execute_result"
    }
   ],
   "source": [
    "import pandas as pd\n",
    "from functools import partial\n",
    "from localcider.sequenceParameters import SequenceParameters\n",
    "from tqdm import tqdm\n",
    "\n",
    "_METRICS = {\n",
    "    \"length\"                     : (\"get_length\",                 {}),\n",
    "    \"FCR\"                        : (\"get_FCR\",                    {}),\n",
    "    \"NCPR\"                       : (\"get_NCPR\",                   {}),\n",
    "    \"isoelectric_point\"          : (\"get_isoelectric_point\",      {}),\n",
    "    \"molecular_weight\"           : (\"get_molecular_weight\",       {}),\n",
    "    \"count_negative\"             : (\"get_countNeg\",               {}),\n",
    "    \"count_positive\"             : (\"get_countPos\",               {}),\n",
    "    \"count_neutral\"              : (\"get_countNeut\",              {}),\n",
    "    \"fraction_negative\"          : (\"get_fraction_negative\",      {}),\n",
    "    \"fraction_positive\"          : (\"get_fraction_positive\",      {}),\n",
    "    \"fraction_expanding\"         : (\"get_fraction_expanding\",     {}), \n",
    "    \"fraction_disorder_promoting\": (\"get_fraction_disorder_promoting\", {}),\n",
    "    \"kappa\"                      : (\"get_kappa\",                  {}),\n",
    "    \"Omega\"                      : (\"get_Omega\",                  {}),\n",
    "    \"mean_net_charge\"            : (\"get_mean_net_charge\",        {}),\n",
    "    \"mean_hydropathy\"            : (\"get_mean_hydropathy\",        {}),\n",
    "    \"uversky_hydropathy\"         : (\"get_uversky_hydropathy\",     {}),\n",
    "    \"PPII_propensity\"            : (\"get_PPII_propensity\",        {}),\n",
    "    \"delta\"                      : (\"get_delta\",                  {}),\n",
    "    \"delta_max\"                  : (\"get_deltaMax\",               {}),\n",
    "}\n",
    "\n",
    "def _aa_fraction_columns():\n",
    "    aas = \"ACDEFGHIKLMNPQRSTVWY\"\n",
    "    return {f\"frac_{aa}\": (f\"_aa_fraction_{aa}\", {}) for aa in aas}\n",
    "\n",
    "_METRICS.update(_aa_fraction_columns())\n",
    "\n",
    "def add_localcider_features(df: pd.DataFrame,\n",
    "                            seq_col: str = \"Sequence\",\n",
    "                            drop_bad: bool = True) -> pd.DataFrame:\n",
    "\n",
    "\n",
    "    def _get_amino_acid_fraction(sp, aa):\n",
    "        return sp.get_amino_acid_fractions().get(aa, pd.NA)\n",
    "    \n",
    "    out = df.copy()\n",
    "    def preprocess_seq(seq: str):\n",
    "        if \"U\" in seq:\n",
    "            print(f\"Replacing U → C in sequence: {seq}\")\n",
    "            seq = seq.replace(\"U\", \"C\")\n",
    "        return seq\n",
    "    \n",
    "    seq_params = []\n",
    "\n",
    "    for idx, seq in tqdm(out[seq_col].items()):\n",
    "        try:\n",
    "            seq = preprocess_seq(seq)\n",
    "            seq_params.append(SequenceParameters(seq))\n",
    "        except Exception:\n",
    "            seq_params.append(None)\n",
    "            print(f\"Bad sequence at index {idx}: {seq}\")\n",
    "\n",
    "    for col, (method, kwargs) in _METRICS.items():\n",
    "        print(f\"Computing {method}\")\n",
    "        values = []\n",
    "        for sp in tqdm(seq_params):\n",
    "            if sp is None:\n",
    "                values.append(pd.NA)\n",
    "                continue\n",
    "            if method.startswith(\"_aa_fraction_\"):\n",
    "                aa = method.split(\"_\")[-1]\n",
    "                values.append(_get_amino_acid_fraction(sp, aa))\n",
    "            else:\n",
    "                func = getattr(sp, method, None)\n",
    "                if func is None:\n",
    "                    values.append(pd.NA)\n",
    "                    continue\n",
    "                values.append(func(**kwargs) if kwargs else func())\n",
    "        out[col] = values\n",
    "\n",
    "    return out\n",
    "\n",
    "representations_45S_47S_df_with_cider = add_localcider_features(representations_45S_47S_df, seq_col=\"Sequence\")\n",
    "print(f\"Added {len(representations_45S_47S_df.columns.difference(representations_45S_47S_df_with_cider.columns))} columns to the dataframe\")"
   ]
  },
  {
   "cell_type": "code",
   "execution_count": 9,
   "metadata": {},
   "outputs": [],
   "source": [
    "representations_45S_47S_df_with_cider.to_csv(\"data/curated_data_for_modeling/45S_47S_localcider_features.tsv\", sep=\"\\t\", index=False)"
   ]
  }
 ],
 "metadata": {
  "kernelspec": {
   "display_name": "nardini",
   "language": "python",
   "name": "python3"
  },
  "language_info": {
   "codemirror_mode": {
    "name": "ipython",
    "version": 3
   },
   "file_extension": ".py",
   "mimetype": "text/x-python",
   "name": "python",
   "nbconvert_exporter": "python",
   "pygments_lexer": "ipython3",
   "version": "3.8.20"
  }
 },
 "nbformat": 4,
 "nbformat_minor": 2
}
